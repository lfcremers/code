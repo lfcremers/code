{
 "cells": [
  {
   "cell_type": "code",
   "execution_count": 192,
   "source": [
    "import numpy as np"
   ],
   "outputs": [],
   "metadata": {}
  },
  {
   "cell_type": "code",
   "execution_count": 193,
   "source": [
    "def p1(k: int) -> str:\n",
    "\n",
    "    def factorial(i):\n",
    "        fact=1\n",
    "        for x in range(2,(i+1)):\n",
    "            fact=fact*x\n",
    "        return fact\n",
    "\n",
    "    out=\"\"\n",
    "    for i in reversed(range(1,k+1)):\n",
    "        out = out + str(factorial(i)) + \",\"\n",
    "    return out"
   ],
   "outputs": [],
   "metadata": {}
  },
  {
   "cell_type": "code",
   "execution_count": 194,
   "source": [
    "# Return the resulting list after the following operations: (i) sort y by descending order, and (ii) delete the last\n",
    "# element of this sorted list.\n",
    "\n",
    "def p2_a(x: list, y: list) -> list:\n",
    "    y=sorted(y)\n",
    "    del y[-1]\n",
    "    return y\n",
    "\n"
   ],
   "outputs": [],
   "metadata": {}
  },
  {
   "cell_type": "code",
   "execution_count": 195,
   "source": [
    "#b. Return the reverse list of x.\n",
    "def p2_b(x: list, y: list) -> list:\n",
    "    return list(reversed(x))\n"
   ],
   "outputs": [],
   "metadata": {}
  },
  {
   "cell_type": "code",
   "execution_count": 196,
   "source": [
    "#c. Return the list of unique elements that you get by concatenating x and y, in ascending order.\n",
    "def p2_c(x: list, y: list) -> list:\n",
    "    z=x+y\n",
    "    z=list(set(z))\n",
    "    z=sorted(z)\n",
    "    return(z)\n"
   ],
   "outputs": [],
   "metadata": {}
  },
  {
   "cell_type": "code",
   "execution_count": 197,
   "source": [
    "#d. Return a single list consisting of x and y as its two elements.\n",
    "def p2_d(x: list, y: list) -> list:\n",
    "    return [x,y]"
   ],
   "outputs": [],
   "metadata": {}
  },
  {
   "cell_type": "code",
   "execution_count": 198,
   "source": [
    "#a. Return the union set of all three sets.\n",
    "def p3_a(x: set, y: set, z: set) -> set:\n",
    "    union = list(x)+list(y)+list(z)\n",
    "    union=set(union)\n",
    "    return union\n"
   ],
   "outputs": [],
   "metadata": {}
  },
  {
   "cell_type": "code",
   "execution_count": 199,
   "source": [
    "#b. Return the intersection set of all three sets.\n",
    "def p3_b(x: set, y: set, z: set) -> set:\n",
    "    intersect = [i for i in y if i in x]\n",
    "    intersect += [i for i in z if i in intersect]\n",
    "    return set(intersect)\n"
   ],
   "outputs": [],
   "metadata": {}
  },
  {
   "cell_type": "code",
   "execution_count": 200,
   "source": [
    "#c. Return a set of elements that belong to only a single set out of the three sets.\n",
    "def p3_c(x: set, y: set, z: set) -> set:\n",
    "    single = [i for i in y if i not in x and i not in z]\n",
    "    single += [i for i in z if i not in x and i not in y]\n",
    "    single += [i for i in x if i not in z and i not in y]\n",
    "\n",
    "    return (set(single))\n",
    "    \n",
    "    "
   ],
   "outputs": [],
   "metadata": {}
  },
  {
   "cell_type": "code",
   "execution_count": 201,
   "source": [
    "#4a\n",
    "def p4_a() -> np.array:\n",
    "    array=[[1,1,1,1,1],[1,0,0,0,1],[1,0,2,0,1],[1,0,0,0,1],[1,1,1,1,1]]\n",
    "    board=np.array(array)\n",
    "    return board"
   ],
   "outputs": [],
   "metadata": {}
  },
  {
   "cell_type": "code",
   "execution_count": 202,
   "source": [
    "def p4_b(x: np.array) -> list:\n",
    "\n",
    "    def find_2(x):\n",
    "        for z in range(0,5):\n",
    "            for y in range(0,5):\n",
    "                if x[z,y]==2:\n",
    "                    return [z,y]\n",
    "    coords = find_2(x)\n",
    "    returns=[\n",
    "        (coords[0]-2,coords[1]+1),\n",
    "        (coords[0]-1,coords[1]+2),\n",
    "        (coords[0]+1,coords[1]+2),\n",
    "        (coords[0]+2,coords[1]+1),\n",
    "        (coords[0]+2,coords[1]-1),\n",
    "        (coords[0]+1,coords[1]-2),\n",
    "        (coords[0]-1,coords[1]-2),\n",
    "        (coords[0]-2,coords[1]-1)\n",
    "    ]\n",
    "\n",
    "    i=0\n",
    "    while i < len(returns):\n",
    "        \n",
    "        #remove the indices that are out of scope:\n",
    "        if returns[i][0] not in range(0,5) or returns[i][1] not in range(0,5):\n",
    "            del returns[i]\n",
    "        \n",
    "        elif x[returns[i][0],returns[i][1]]!=1:\n",
    "            del returns[i]\n",
    "            \n",
    "        else:\n",
    "            i+=1\n",
    "            \n",
    "    return returns\n",
    "\n"
   ],
   "outputs": [],
   "metadata": {}
  },
  {
   "cell_type": "code",
   "execution_count": 203,
   "source": [
    "def p5_a(x: dict) -> int:\n",
    "    isolated=[]\n",
    "    for val in x.values:\n",
    "        if len(val)==0:\n",
    "            isolated.append(val)\n",
    "    \n",
    "    return len(isolated)"
   ],
   "outputs": [],
   "metadata": {}
  },
  {
   "cell_type": "code",
   "execution_count": 204,
   "source": [
    "def p5_b(x: dict) -> int:\n",
    "    connected=[]\n",
    "    for val in x.values:\n",
    "        if len(val)!=0:\n",
    "            connected.append(val)\n",
    "    \n",
    "    return len(connected)"
   ],
   "outputs": [],
   "metadata": {}
  },
  {
   "cell_type": "code",
   "execution_count": 205,
   "source": [
    "def p5_c(x: dict) -> list:\n",
    "    used=[]\n",
    "    uniques=[]\n",
    "    for key in x.keys():\n",
    "        for val in x[key]:\n",
    "            if {val,key} not in used:\n",
    "                uniques.append((str(key),str(val)))\n",
    "                used.append({val,key})\n",
    "    return uniques"
   ],
   "outputs": [],
   "metadata": {}
  },
  {
   "cell_type": "code",
   "execution_count": 206,
   "source": [
    "def p5_d(x: dict) -> np.array:\n",
    "            \n",
    "    index={}\n",
    "    for y,i in zip(x.keys(),range(len(x))):\n",
    "        index[y] = i \n",
    "    print(index)\n",
    "\n",
    "    matrix=np.zeros((len(x),len(x)),dtype=int)\n",
    "\n",
    "    for key in x:\n",
    "        for item in x[key]:\n",
    "            matrix[index[key],index[item]]=1\n",
    "    \n",
    "\n",
    "    return matrix"
   ],
   "outputs": [],
   "metadata": {}
  },
  {
   "cell_type": "code",
   "execution_count": 207,
   "source": [
    "class PriorityQueue(object):\n",
    "    def __init__(self):\n",
    "        self.queue=[]\n",
    "        self.ref={\"apple\":5,\"banana\":4.5,\"carrot\":3.3,\"kiwi\":7.4,\"orange\":5,\"mango\":9.1,\"pineapple\":9.1}\n",
    "\n",
    "    def push(self, x):\n",
    "        if self.is_empty():\n",
    "            self.queue.append(x)\n",
    "        else:\n",
    "            position =0\n",
    "            while position<len(self.queue):\n",
    "                print(position)\n",
    "                #if the item to add is larger than the current element being inspected, insert it in front of the current element\n",
    "                if self.ref[self.queue[position]]<self.ref[x]:\n",
    "                    self.queue.insert(position,x)\n",
    "                   \n",
    "                    return\n",
    "                \n",
    "                #if the item to add is smaller than (or equal to) the curent element being inspected, go to the next item:\n",
    "                elif self.ref[self.queue[position]]>=self.ref[x]:\n",
    "                    position+=1\n",
    "                    continue\n",
    "                \n",
    "            self.queue.append(x)\n",
    "\n",
    "    def pop(self):\n",
    "        item=self.queue[0]\n",
    "        del self.queue[0]\n",
    "        return item\n",
    "\n",
    "    def is_empty(self):\n",
    "        if len(self.queue)==0:\n",
    "            return True\n",
    "        return False"
   ],
   "outputs": [],
   "metadata": {}
  },
  {
   "cell_type": "code",
   "execution_count": 208,
   "source": [
    "pq = PriorityQueue()\n",
    "pq.push(\"apple\")\n",
    "pq.is_empty()\n"
   ],
   "outputs": [
    {
     "output_type": "execute_result",
     "data": {
      "text/plain": [
       "False"
      ]
     },
     "metadata": {},
     "execution_count": 208
    }
   ],
   "metadata": {}
  },
  {
   "cell_type": "code",
   "execution_count": 190,
   "source": [
    "pq.push(\"kiwi\")"
   ],
   "outputs": [
    {
     "output_type": "stream",
     "name": "stdout",
     "text": [
      "0\n"
     ]
    }
   ],
   "metadata": {}
  },
  {
   "cell_type": "code",
   "execution_count": 191,
   "source": [
    "pq.push(\"orange\")"
   ],
   "outputs": [
    {
     "output_type": "stream",
     "name": "stdout",
     "text": [
      "0\n",
      "1\n"
     ]
    }
   ],
   "metadata": {}
  },
  {
   "cell_type": "code",
   "execution_count": 148,
   "source": [
    "graph = {\n",
    "\"A\": [\"D\", \"E\"],\n",
    "\"B\": [\"E\", \"F\"],\n",
    "\"C\": [\"E\"],\n",
    "\"D\": [\"A\", \"E\"],\n",
    "\"E\": [\"A\", \"B\", \"C\", \"D\"],\n",
    "\"F\": [\"B\"],\n",
    "\"G\": []\n",
    "}"
   ],
   "outputs": [],
   "metadata": {}
  },
  {
   "cell_type": "code",
   "execution_count": null,
   "source": [],
   "outputs": [],
   "metadata": {}
  }
 ],
 "metadata": {
  "orig_nbformat": 4,
  "language_info": {
   "name": "python",
   "version": "3.8.8",
   "mimetype": "text/x-python",
   "codemirror_mode": {
    "name": "ipython",
    "version": 3
   },
   "pygments_lexer": "ipython3",
   "nbconvert_exporter": "python",
   "file_extension": ".py"
  },
  "kernelspec": {
   "name": "python3",
   "display_name": "Python 3.8.8 64-bit ('base': conda)"
  },
  "interpreter": {
   "hash": "7914c5aa75e0e72609ce03a1b11cca6abe9ad01bc4c251b21426089f3001d8fe"
  }
 },
 "nbformat": 4,
 "nbformat_minor": 2
}