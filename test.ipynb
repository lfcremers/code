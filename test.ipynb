{
 "cells": [
  {
   "cell_type": "code",
   "execution_count": 1,
   "source": [
    "import numpy as np"
   ],
   "outputs": [],
   "metadata": {}
  },
  {
   "cell_type": "code",
   "execution_count": 2,
   "source": [
    "def p1(k: int) -> str:\n",
    "    out=\"\"\n",
    "    for i in range(k,0):\n",
    "        out = out + str(k**i) + \",\"\n",
    "    \n",
    "    return out"
   ],
   "outputs": [],
   "metadata": {}
  },
  {
   "cell_type": "code",
   "execution_count": 12,
   "source": [
    "print(p1(8))"
   ],
   "outputs": [
    {
     "output_type": "stream",
     "name": "stdout",
     "text": [
      "\n"
     ]
    }
   ],
   "metadata": {}
  },
  {
   "cell_type": "code",
   "execution_count": 3,
   "source": [
    "# Return the resulting list after the following operations: (i) sort y by descending order, and (ii) delete the last\n",
    "# element of this sorted list.\n",
    "\n",
    "def p2_a(x: list, y: list) -> list:\n",
    "    sorted(y)\n",
    "    del y[-1]\n",
    "    return y\n",
    "\n"
   ],
   "outputs": [],
   "metadata": {}
  },
  {
   "cell_type": "code",
   "execution_count": 4,
   "source": [
    "#b. Return the reverse list of x.\n",
    "def p2_b(x: list, y: list) -> list:\n",
    "    return reversed(x)\n"
   ],
   "outputs": [],
   "metadata": {}
  },
  {
   "cell_type": "code",
   "execution_count": 5,
   "source": [
    "#c. Return the list of unique elements that you get by concatenating x and y, in ascending order.\n",
    "def p2_c(x: list, y: list) -> list:\n",
    "    z=x+y\n",
    "    z=list(set(z))\n",
    "    z=sorted(z)\n",
    "    return(z)\n"
   ],
   "outputs": [],
   "metadata": {}
  },
  {
   "cell_type": "code",
   "execution_count": 6,
   "source": [
    "#d. Return a single list consisting of x and y as its two elements.\n",
    "def p2_d(x: list, y: list) -> list:\n",
    "    return [x,y]"
   ],
   "outputs": [],
   "metadata": {}
  },
  {
   "cell_type": "code",
   "execution_count": 7,
   "source": [
    "#a. Return the union set of all three sets.\n",
    "def p3_a(x: set, y: set, z: set) -> set:\n",
    "    pass\n"
   ],
   "outputs": [],
   "metadata": {}
  },
  {
   "cell_type": "code",
   "execution_count": 8,
   "source": [
    "#b. Return the intersection set of all three sets.\n",
    "def p3_b(x: set, y: set, z: set) -> set:\n",
    "    pass\n"
   ],
   "outputs": [],
   "metadata": {}
  },
  {
   "cell_type": "code",
   "execution_count": 9,
   "source": [
    "#c. Return a set of elements that belong to only a single set out of the three sets.\n",
    "def p3_c(x: set, y: set, z: set) -> set:\n",
    "    pass\n",
    "\n"
   ],
   "outputs": [],
   "metadata": {}
  },
  {
   "cell_type": "code",
   "execution_count": null,
   "source": [],
   "outputs": [],
   "metadata": {}
  }
 ],
 "metadata": {
  "orig_nbformat": 4,
  "language_info": {
   "name": "python",
   "version": "3.8.8",
   "mimetype": "text/x-python",
   "codemirror_mode": {
    "name": "ipython",
    "version": 3
   },
   "pygments_lexer": "ipython3",
   "nbconvert_exporter": "python",
   "file_extension": ".py"
  },
  "kernelspec": {
   "name": "python3",
   "display_name": "Python 3.8.8 64-bit ('base': conda)"
  },
  "interpreter": {
   "hash": "7914c5aa75e0e72609ce03a1b11cca6abe9ad01bc4c251b21426089f3001d8fe"
  }
 },
 "nbformat": 4,
 "nbformat_minor": 2
}